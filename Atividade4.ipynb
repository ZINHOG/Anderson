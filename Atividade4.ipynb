{
  "nbformat": 4,
  "nbformat_minor": 0,
  "metadata": {
    "colab": {
      "provenance": [],
      "authorship_tag": "ABX9TyM15W0/CctSiGtzA1ZgDywo",
      "include_colab_link": true
    },
    "kernelspec": {
      "name": "python3",
      "display_name": "Python 3"
    },
    "language_info": {
      "name": "python"
    }
  },
  "cells": [
    {
      "cell_type": "markdown",
      "metadata": {
        "id": "view-in-github",
        "colab_type": "text"
      },
      "source": [
        "<a href=\"https://colab.research.google.com/github/ZINHOG/Anderson/blob/main/Atividade4.ipynb\" target=\"_parent\"><img src=\"https://colab.research.google.com/assets/colab-badge.svg\" alt=\"Open In Colab\"/></a>"
      ]
    },
    {
      "cell_type": "code",
      "execution_count": 1,
      "metadata": {
        "colab": {
          "base_uri": "https://localhost:8080/"
        },
        "id": "dIbE2YbmqnWw",
        "outputId": "78facba2-106c-46d3-dc5f-b8b7f7d2630d"
      },
      "outputs": [
        {
          "output_type": "stream",
          "name": "stdout",
          "text": [
            "Requirement already satisfied: requests in /usr/local/lib/python3.12/dist-packages (2.32.4)\n",
            "Requirement already satisfied: beautifulsoup4 in /usr/local/lib/python3.12/dist-packages (4.13.5)\n",
            "Requirement already satisfied: pandas in /usr/local/lib/python3.12/dist-packages (2.2.2)\n",
            "Requirement already satisfied: charset_normalizer<4,>=2 in /usr/local/lib/python3.12/dist-packages (from requests) (3.4.3)\n",
            "Requirement already satisfied: idna<4,>=2.5 in /usr/local/lib/python3.12/dist-packages (from requests) (3.10)\n",
            "Requirement already satisfied: urllib3<3,>=1.21.1 in /usr/local/lib/python3.12/dist-packages (from requests) (2.5.0)\n",
            "Requirement already satisfied: certifi>=2017.4.17 in /usr/local/lib/python3.12/dist-packages (from requests) (2025.8.3)\n",
            "Requirement already satisfied: soupsieve>1.2 in /usr/local/lib/python3.12/dist-packages (from beautifulsoup4) (2.8)\n",
            "Requirement already satisfied: typing-extensions>=4.0.0 in /usr/local/lib/python3.12/dist-packages (from beautifulsoup4) (4.15.0)\n",
            "Requirement already satisfied: numpy>=1.26.0 in /usr/local/lib/python3.12/dist-packages (from pandas) (2.0.2)\n",
            "Requirement already satisfied: python-dateutil>=2.8.2 in /usr/local/lib/python3.12/dist-packages (from pandas) (2.9.0.post0)\n",
            "Requirement already satisfied: pytz>=2020.1 in /usr/local/lib/python3.12/dist-packages (from pandas) (2025.2)\n",
            "Requirement already satisfied: tzdata>=2022.7 in /usr/local/lib/python3.12/dist-packages (from pandas) (2025.2)\n",
            "Requirement already satisfied: six>=1.5 in /usr/local/lib/python3.12/dist-packages (from python-dateutil>=2.8.2->pandas) (1.17.0)\n",
            "Página baixada com sucesso!\n"
          ]
        }
      ],
      "source": [
        "!pip install requests beautifulsoup4 pandas\n",
        "import requests\n",
        "\n",
        "# URL da primeira página do site\n",
        "url = 'http://books.toscrape.com/catalogue/page-1.html'\n",
        "\n",
        "# Fazer a requisição HTTP\n",
        "response = requests.get(url)\n",
        "\n",
        "# Verificar se deu certo (status code 200 = OK)\n",
        "if response.status_code == 200:\n",
        "    print(\"Página baixada com sucesso!\")\n",
        "    html = response.text\n",
        "else:\n",
        "    print(\"Erro ao baixar a página:\", response.status_code)\n"
      ]
    },
    {
      "cell_type": "code",
      "source": [
        "from bs4 import BeautifulSoup\n",
        "\n",
        "# Criar o parser do HTML baixado\n",
        "soup = BeautifulSoup(html, 'html.parser')\n",
        "\n",
        "# Lista para armazenar os dados dos livros\n",
        "livros = []\n",
        "\n",
        "# Encontrar todos os livros na página (cada um está dentro de um <article class=\"product_pod\">)\n",
        "for artigo in soup.select('article.product_pod'):\n",
        "    titulo = artigo.h3.a['title']\n",
        "    preco = artigo.select_one('p.price_color').text.strip()\n",
        "    disponibilidade = artigo.select_one('p.instock.availability').text.strip()\n",
        "\n",
        "    livros.append({\n",
        "        'Título': titulo,\n",
        "        'Preço': preco,\n",
        "        'Disponibilidade': disponibilidade\n",
        "    })\n",
        "\n",
        "# Exibir os livros coletados\n",
        "for livro in livros:\n",
        "    print(livro)\n"
      ],
      "metadata": {
        "colab": {
          "base_uri": "https://localhost:8080/"
        },
        "id": "6k9hIgC8tc6w",
        "outputId": "28da7400-87fa-426f-d107-29b696d4e173"
      },
      "execution_count": 2,
      "outputs": [
        {
          "output_type": "stream",
          "name": "stdout",
          "text": [
            "{'Título': 'A Light in the Attic', 'Preço': 'Â£51.77', 'Disponibilidade': 'In stock'}\n",
            "{'Título': 'Tipping the Velvet', 'Preço': 'Â£53.74', 'Disponibilidade': 'In stock'}\n",
            "{'Título': 'Soumission', 'Preço': 'Â£50.10', 'Disponibilidade': 'In stock'}\n",
            "{'Título': 'Sharp Objects', 'Preço': 'Â£47.82', 'Disponibilidade': 'In stock'}\n",
            "{'Título': 'Sapiens: A Brief History of Humankind', 'Preço': 'Â£54.23', 'Disponibilidade': 'In stock'}\n",
            "{'Título': 'The Requiem Red', 'Preço': 'Â£22.65', 'Disponibilidade': 'In stock'}\n",
            "{'Título': 'The Dirty Little Secrets of Getting Your Dream Job', 'Preço': 'Â£33.34', 'Disponibilidade': 'In stock'}\n",
            "{'Título': 'The Coming Woman: A Novel Based on the Life of the Infamous Feminist, Victoria Woodhull', 'Preço': 'Â£17.93', 'Disponibilidade': 'In stock'}\n",
            "{'Título': 'The Boys in the Boat: Nine Americans and Their Epic Quest for Gold at the 1936 Berlin Olympics', 'Preço': 'Â£22.60', 'Disponibilidade': 'In stock'}\n",
            "{'Título': 'The Black Maria', 'Preço': 'Â£52.15', 'Disponibilidade': 'In stock'}\n",
            "{'Título': 'Starving Hearts (Triangular Trade Trilogy, #1)', 'Preço': 'Â£13.99', 'Disponibilidade': 'In stock'}\n",
            "{'Título': \"Shakespeare's Sonnets\", 'Preço': 'Â£20.66', 'Disponibilidade': 'In stock'}\n",
            "{'Título': 'Set Me Free', 'Preço': 'Â£17.46', 'Disponibilidade': 'In stock'}\n",
            "{'Título': \"Scott Pilgrim's Precious Little Life (Scott Pilgrim #1)\", 'Preço': 'Â£52.29', 'Disponibilidade': 'In stock'}\n",
            "{'Título': 'Rip it Up and Start Again', 'Preço': 'Â£35.02', 'Disponibilidade': 'In stock'}\n",
            "{'Título': 'Our Band Could Be Your Life: Scenes from the American Indie Underground, 1981-1991', 'Preço': 'Â£57.25', 'Disponibilidade': 'In stock'}\n",
            "{'Título': 'Olio', 'Preço': 'Â£23.88', 'Disponibilidade': 'In stock'}\n",
            "{'Título': 'Mesaerion: The Best Science Fiction Stories 1800-1849', 'Preço': 'Â£37.59', 'Disponibilidade': 'In stock'}\n",
            "{'Título': 'Libertarianism for Beginners', 'Preço': 'Â£51.33', 'Disponibilidade': 'In stock'}\n",
            "{'Título': \"It's Only the Himalayas\", 'Preço': 'Â£45.17', 'Disponibilidade': 'In stock'}\n"
          ]
        }
      ]
    },
    {
      "cell_type": "code",
      "source": [
        "import pandas as pd\n",
        "\n",
        "# Criar um DataFrame com os dados\n",
        "df = pd.DataFrame(livros)\n",
        "\n",
        "# Salvar como CSV\n",
        "df.to_csv('books_page1.csv', index=False, encoding='utf-8')\n",
        "\n",
        "print(\"Arquivo CSV salvo com sucesso!\")\n"
      ],
      "metadata": {
        "colab": {
          "base_uri": "https://localhost:8080/"
        },
        "id": "kXyxJjnptfOf",
        "outputId": "c0bebc8b-415e-491e-dca7-bd3ae0806dac"
      },
      "execution_count": 3,
      "outputs": [
        {
          "output_type": "stream",
          "name": "stdout",
          "text": [
            "Arquivo CSV salvo com sucesso!\n"
          ]
        }
      ]
    }
  ]
}